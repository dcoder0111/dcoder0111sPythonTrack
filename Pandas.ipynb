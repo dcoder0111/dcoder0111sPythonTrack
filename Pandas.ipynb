{
  "nbformat": 4,
  "nbformat_minor": 0,
  "metadata": {
    "colab": {
      "name": "Pandas.ipynb",
      "provenance": [],
      "collapsed_sections": [],
      "authorship_tag": "ABX9TyP+UghOGuk5iUO8BV4t7d7+",
      "include_colab_link": true
    },
    "kernelspec": {
      "name": "python3",
      "display_name": "Python 3"
    },
    "language_info": {
      "name": "python"
    }
  },
  "cells": [
    {
      "cell_type": "markdown",
      "metadata": {
        "id": "view-in-github",
        "colab_type": "text"
      },
      "source": [
        "<a href=\"https://colab.research.google.com/github/freezingMonkeys/freezingMonkeysPythonTrack/blob/main/Pandas.ipynb\" target=\"_parent\"><img src=\"https://colab.research.google.com/assets/colab-badge.svg\" alt=\"Open In Colab\"/></a>"
      ]
    },
    {
      "cell_type": "markdown",
      "metadata": {
        "id": "Wr6wZ2wc6k-y"
      },
      "source": [
        "# Pandas 🐼\n",
        "Pandas is an open source library that helps use create dataframes for data analysis. It uses dictionaries and is very convenient. Here is the <a href='http://pandas.pydata.org/'>official documentation</a>.\n",
        "\n",
        "\n",
        "---\n",
        "\n"
      ]
    },
    {
      "cell_type": "code",
      "metadata": {
        "id": "EaohNjfz6ioI"
      },
      "source": [
        "import pandas as pd\n",
        "import numpy as np"
      ],
      "execution_count": null,
      "outputs": []
    },
    {
      "cell_type": "markdown",
      "metadata": {
        "id": "6T6R0JGr7JT_"
      },
      "source": [
        "# Level 0:"
      ]
    },
    {
      "cell_type": "code",
      "metadata": {
        "id": "bf-vyXic7Pp8"
      },
      "source": [
        "# Create a pandas series\n",
        "\n",
        "companies = ['FaceBook', 'Amazon', 'Apple', 'Netflix', 'Google']\n",
        "stock = np.array([341.37, 3401.46, 133.11, 527.07, 2539.90]) # pandas need numpy arrays\n",
        "# numpy is a library that makes calculations with arrays easier but we do not need to learn it right now\n",
        "pd.Series(stock, faang)\n",
        "\n",
        "# However this can only do two columns"
      ],
      "execution_count": null,
      "outputs": []
    },
    {
      "cell_type": "markdown",
      "metadata": {
        "id": "hR56Zqjy9rXn"
      },
      "source": [
        "# Level 1:"
      ]
    },
    {
      "cell_type": "code",
      "metadata": {
        "id": "HpEY7SSJ8UiX"
      },
      "source": [
        "# First lets create a Python dictionary\n",
        "stocks_dict = {\n",
        "    'companies' : ['FaceBook', 'Amazon', 'Apple', 'Netflix', 'Google'],\n",
        "    'stock_names' : ['FB', 'AMZN', 'AAPL', 'NFLX', 'GOOG'],\n",
        "    'stock' : np.array([341.37, 3401.46, 133.11, 527.07, 2539.90])\n",
        "}\n"
      ],
      "execution_count": null,
      "outputs": []
    },
    {
      "cell_type": "markdown",
      "metadata": {
        "id": "2m2X7kjS-L3L"
      },
      "source": [
        "Now, let's turn it into a DataFrame:"
      ]
    },
    {
      "cell_type": "code",
      "metadata": {
        "id": "jWMnDENh-BcO"
      },
      "source": [
        "stocks = pd.DataFrame(stocks_dict)"
      ],
      "execution_count": null,
      "outputs": []
    },
    {
      "cell_type": "code",
      "metadata": {
        "id": "NvIY0j9n-VKj"
      },
      "source": [
        "# print it out\n",
        "stocks"
      ],
      "execution_count": null,
      "outputs": []
    },
    {
      "cell_type": "markdown",
      "metadata": {
        "id": "ZIgpSIyn_85e"
      },
      "source": [
        "# Level 2"
      ]
    },
    {
      "cell_type": "code",
      "metadata": {
        "id": "nQqw0nWUAACh"
      },
      "source": [
        "# Calling a column\n",
        "\n",
        "stocks['stock_names']"
      ],
      "execution_count": null,
      "outputs": []
    },
    {
      "cell_type": "code",
      "metadata": {
        "colab": {
          "base_uri": "https://localhost:8080/",
          "height": 35
        },
        "id": "UPSDRYPqAglT",
        "outputId": "9ef23d49-15b9-4275-def5-92d06bb77291"
      },
      "source": [
        "# Calling a specific value\n",
        "\n",
        "stocks['stock_names'][0]"
      ],
      "execution_count": null,
      "outputs": [
        {
          "output_type": "execute_result",
          "data": {
            "application/vnd.google.colaboratory.intrinsic+json": {
              "type": "string"
            },
            "text/plain": [
              "'FB'"
            ]
          },
          "metadata": {
            "tags": []
          },
          "execution_count": 37
        }
      ]
    },
    {
      "cell_type": "markdown",
      "metadata": {
        "id": "CXu5vDHE-aj4"
      },
      "source": [
        "# Level 3\n"
      ]
    },
    {
      "cell_type": "code",
      "metadata": {
        "id": "kwW5lAau-cQz"
      },
      "source": [
        "# Methods!!\n",
        "\n",
        "# Unique: prints out the unique values in given column\n",
        "pd.unique(stocks[\"companies\"]) "
      ],
      "execution_count": null,
      "outputs": []
    },
    {
      "cell_type": "code",
      "metadata": {
        "id": "0pPkw9n0-iY2"
      },
      "source": [
        "# Describes the summary statistics of columns\n",
        "stocks.describe()"
      ],
      "execution_count": null,
      "outputs": []
    },
    {
      "cell_type": "code",
      "metadata": {
        "id": "GkSDnOfp-ydo"
      },
      "source": [
        "# Filtering: \n",
        "\n",
        "stocks[stocks[\"stock\"] > 1000]"
      ],
      "execution_count": null,
      "outputs": []
    },
    {
      "cell_type": "code",
      "metadata": {
        "id": "tdmjlGD7-_gk"
      },
      "source": [
        "stocks[stocks[\"stock\"] < 1000]"
      ],
      "execution_count": null,
      "outputs": []
    },
    {
      "cell_type": "code",
      "metadata": {
        "id": "GtuUKx4w_HZE"
      },
      "source": [
        "# Mean:\n",
        "\n",
        "stocks['stock'].mean()"
      ],
      "execution_count": null,
      "outputs": []
    },
    {
      "cell_type": "markdown",
      "metadata": {
        "id": "5URaIgPxAyB6"
      },
      "source": [
        "# Level 4"
      ]
    },
    {
      "cell_type": "code",
      "metadata": {
        "id": "vRk2DjuQAz9a"
      },
      "source": [
        "# Adding another column\n",
        "\n",
        "stocks['CEO'] = ['Mark Zuckerberg', 'Jeff Bezos', 'Tim Cook', 'Ted Sarandos', 'Sundar Pichai']"
      ],
      "execution_count": null,
      "outputs": []
    },
    {
      "cell_type": "code",
      "metadata": {
        "id": "U1yM3Q4zBVvM"
      },
      "source": [
        "stocks"
      ],
      "execution_count": null,
      "outputs": []
    }
  ]
}