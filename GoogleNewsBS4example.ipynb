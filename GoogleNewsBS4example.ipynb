{
  "nbformat": 4,
  "nbformat_minor": 0,
  "metadata": {
    "colab": {
      "name": "GoogleNewsBS4example.ipynb",
      "provenance": [],
      "authorship_tag": "ABX9TyNGadFJBWzGEi2fVBDTwf5o",
      "include_colab_link": true
    },
    "kernelspec": {
      "name": "python3",
      "display_name": "Python 3"
    },
    "language_info": {
      "name": "python"
    }
  },
  "cells": [
    {
      "cell_type": "markdown",
      "metadata": {
        "id": "view-in-github",
        "colab_type": "text"
      },
      "source": [
        "<a href=\"https://colab.research.google.com/github/freezingMonkeys/freezingMonkeysPythonTrack/blob/main/GoogleNewsBS4example.ipynb\" target=\"_parent\"><img src=\"https://colab.research.google.com/assets/colab-badge.svg\" alt=\"Open In Colab\"/></a>"
      ]
    },
    {
      "cell_type": "code",
      "metadata": {
        "id": "2EUOyZ5imTKQ"
      },
      "source": [
        "import requests\n",
        "from bs4 import BeautifulSoup as soup\n",
        "url = 'https://news.google.com/rss?hl=en-US&gl=US&ceid=US:en'\n",
        "xml_page = requests.get(url).content\n",
        "soup_page = soup(xml_page, \"xml\")\n",
        "\n",
        "news_list = soup_page.findAll('item')"
      ],
      "execution_count": null,
      "outputs": []
    },
    {
      "cell_type": "code",
      "metadata": {
        "id": "Lmf9s87pmr4r"
      },
      "source": [
        "# Prints all news\n",
        "for news in news_list:\n",
        "  print(news.title.text)\n",
        "  print(news.link.text)\n",
        "  print(news.source.get('url'))\n",
        "  print(news.pubDate.text)\n",
        "  print('---'*100)"
      ],
      "execution_count": null,
      "outputs": []
    },
    {
      "cell_type": "code",
      "metadata": {
        "id": "tKKKfl0Zme2d"
      },
      "source": [
        "# Finds news involving COVID\n",
        "for news in news_list:\n",
        "  if news.title.text.upper().find('COVID') != -1 or news.title.text.lower().find('coronavirus') != -1:\n",
        "      print(news.title.text)\n",
        "      print(news.link.text)\n",
        "      print(news.source.get('url'))\n",
        "      print(news.pubDate.text)\n",
        "      print('---'*100)"
      ],
      "execution_count": null,
      "outputs": []
    }
  ]
}